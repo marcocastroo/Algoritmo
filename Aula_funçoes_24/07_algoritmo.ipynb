{
  "nbformat": 4,
  "nbformat_minor": 0,
  "metadata": {
    "colab": {
      "provenance": [],
      "authorship_tag": "ABX9TyNl5vE3O3aopHEoLs8v0UdQ",
      "include_colab_link": true
    },
    "kernelspec": {
      "name": "python3",
      "display_name": "Python 3"
    },
    "language_info": {
      "name": "python"
    }
  },
  "cells": [
    {
      "cell_type": "markdown",
      "metadata": {
        "id": "view-in-github",
        "colab_type": "text"
      },
      "source": [
        "<a href=\"https://colab.research.google.com/github/marcocastroo/Algoritmo/blob/main/Aula_fun%C3%A7oes_24/07_algoritmo.ipynb\" target=\"_parent\"><img src=\"https://colab.research.google.com/assets/colab-badge.svg\" alt=\"Open In Colab\"/></a>"
      ]
    },
    {
      "cell_type": "code",
      "execution_count": 2,
      "metadata": {
        "colab": {
          "base_uri": "https://localhost:8080/"
        },
        "id": "ASVv3CmEUjPv",
        "outputId": "67390001-7bae-438b-bba5-2a89611ed9f6"
      },
      "outputs": [
        {
          "output_type": "stream",
          "name": "stdout",
          "text": [
            "True\n",
            "False\n",
            "Digite um número par: 3\n",
            "O número é impar\n"
          ]
        }
      ],
      "source": [
        "#função de retorno par\n",
        "def epar(num):\n",
        "    if num % 2 == 0:\n",
        "        return True\n",
        "    else:\n",
        "        return False\n",
        "\n",
        "print(epar(4))\n",
        "print(epar(3))\n",
        "\n",
        "valor = int(input(\"Digite um número par: \"))\n",
        "if epar(valor):\n",
        "    print(\"O número é par\")\n",
        "else:\n",
        "    print(\"O número é impar\")"
      ]
    },
    {
      "cell_type": "code",
      "source": [
        "#funcção para verificar se um número é primo\n",
        "def primo(num):\n",
        "    for i in range(2, num):\n",
        "        if num % i == 0:\n",
        "            return False\n",
        "    return True\n",
        "\n",
        "print(primo(4))\n",
        "print(primo(5))\n",
        "\n",
        "valor = int(input(\"Digite um número inteiro: \"))\n",
        "if primo(valor):\n",
        "    print(\"O número é primo\")\n",
        "else:\n",
        "    print(\"O número não é primo\")"
      ],
      "metadata": {
        "colab": {
          "base_uri": "https://localhost:8080/"
        },
        "id": "tmY8ImMcWzxM",
        "outputId": "d2926d90-3a09-4d26-8fc0-32b960a48ba9"
      },
      "execution_count": 5,
      "outputs": [
        {
          "output_type": "stream",
          "name": "stdout",
          "text": [
            "False\n",
            "True\n",
            "Digite um número inteiro: 13\n",
            "O número é primo\n"
          ]
        }
      ]
    },
    {
      "cell_type": "code",
      "source": [
        "#função de Fibbonaci\n",
        "def fibbonaci(n):\n",
        "  seq = [1, 1]\n",
        "  for i in range(2, n):\n",
        "    seq.append(seq[-1] + seq[-2])\n",
        "  return seq\n",
        "print(fibbonaci(12))\n"
      ],
      "metadata": {
        "colab": {
          "base_uri": "https://localhost:8080/"
        },
        "id": "qV_uvjQYgMtN",
        "outputId": "5be7a708-38f6-41bd-b457-962076582402"
      },
      "execution_count": 6,
      "outputs": [
        {
          "output_type": "stream",
          "name": "stdout",
          "text": [
            "[1, 1, 2, 3, 5, 8, 13, 21, 34, 55, 89, 144]\n"
          ]
        }
      ]
    }
  ]
}