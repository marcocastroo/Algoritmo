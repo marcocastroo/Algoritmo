{
  "nbformat": 4,
  "nbformat_minor": 0,
  "metadata": {
    "colab": {
      "provenance": [],
      "authorship_tag": "ABX9TyMKq61mUJCwn9tEtT7PrcTS",
      "include_colab_link": true
    },
    "kernelspec": {
      "name": "python3",
      "display_name": "Python 3"
    },
    "language_info": {
      "name": "python"
    }
  },
  "cells": [
    {
      "cell_type": "markdown",
      "metadata": {
        "id": "view-in-github",
        "colab_type": "text"
      },
      "source": [
        "<a href=\"https://colab.research.google.com/github/marcocastroo/Algoritmo/blob/main/Atividade04_Lista_de_exerc%C3%ADcios.ipynb\" target=\"_parent\"><img src=\"https://colab.research.google.com/assets/colab-badge.svg\" alt=\"Open In Colab\"/></a>"
      ]
    },
    {
      "cell_type": "code",
      "execution_count": null,
      "metadata": {
        "colab": {
          "base_uri": "https://localhost:8080/"
        },
        "id": "6El0kvK7IGR1",
        "outputId": "79f5dc85-e0e2-445d-b0a0-8694ca6feda3"
      },
      "outputs": [
        {
          "output_type": "stream",
          "name": "stdout",
          "text": [
            "Hello, World\n"
          ]
        }
      ],
      "source": [
        "print(\"Hello, World\")\n"
      ]
    },
    {
      "cell_type": "code",
      "source": [
        "print(\"Cálculo de Média ponderada\")\n",
        "\n",
        "n1 = float( input(\"Digite a nota 1: \"))\n",
        "n2 = float( input(\"Digite a nota 2: \"))\n",
        "n3 = float( input(\"Digite a nota 3: \"))\n",
        "\n",
        "media = (n1 + n2 + n3) / 3\n",
        "\n",
        "print (f\"A média ponderada das notas é: {media:.3f}\")"
      ],
      "metadata": {
        "colab": {
          "base_uri": "https://localhost:8080/"
        },
        "id": "3Tl1G3pwQtai",
        "outputId": "f4164567-df0d-425f-a6b3-5e3953ece316"
      },
      "execution_count": null,
      "outputs": [
        {
          "output_type": "stream",
          "name": "stdout",
          "text": [
            "Cálculo de Média ponderada\n",
            "Digite a nota 1: 6\n",
            "Digite a nota 2: 5\n",
            "Digite a nota 3: 8\n",
            "A média ponderada das notas é: 6.333\n"
          ]
        }
      ]
    },
    {
      "cell_type": "code",
      "source": [
        "print(\"Cálculo de média ponderada\")\n",
        "\n",
        "n1 = float( input(\"Digite a nota 1: \"))\n",
        "n2 = float( input(\"Digite a nota 2: \"))\n",
        "n3 = float( input(\"Digite a nota 3: \"))\n",
        "\n",
        "media = (n1 + n2 + n3) / 3\n",
        "\n",
        "print (f\"A média ponderada das notas é: {media:.3f}\")"
      ],
      "metadata": {
        "colab": {
          "base_uri": "https://localhost:8080/"
        },
        "id": "POs2vOQGVii5",
        "outputId": "98ba5ce2-100b-42b7-8908-971a737d4732"
      },
      "execution_count": null,
      "outputs": [
        {
          "output_type": "stream",
          "name": "stdout",
          "text": [
            "Cálculo de média ponderada\n",
            "Digite a nota 1: 6\n",
            "Digite a nota 2: 5\n",
            "Digite a nota 3: 8\n",
            "A média ponderada das notas é: 6.333\n"
          ]
        }
      ]
    },
    {
      "cell_type": "code",
      "source": [
        "def calcular_media(notas):\n",
        "    if len(notas) == 0:\n",
        "        return 0\n",
        "    else:\n",
        "        return sum(notas) / len(notas)\n",
        "\n",
        "notas = []\n",
        "continuar = True\n",
        "\n",
        "while continuar:\n",
        "    nota = float(input(\"Digite uma nota (ou digite -1 para parar): \"))\n",
        "\n",
        "    if nota == -1:\n",
        "        continuar = False\n",
        "    else:\n",
        "        notas.append(nota)\n",
        "\n",
        "media = calcular_media(notas)\n",
        "print(f\"A média das notas digitadas é: {media}\")"
      ],
      "metadata": {
        "colab": {
          "base_uri": "https://localhost:8080/"
        },
        "id": "aZ55rt6tWT2e",
        "outputId": "b3e784d8-7de3-4ce1-97ba-a31f0b3ef952"
      },
      "execution_count": null,
      "outputs": [
        {
          "output_type": "stream",
          "name": "stdout",
          "text": [
            "Digite uma nota (ou digite -1 para parar): 10\n",
            "Digite uma nota (ou digite -1 para parar): 9\n",
            "Digite uma nota (ou digite -1 para parar): 5\n",
            "Digite uma nota (ou digite -1 para parar): 2\n",
            "Digite uma nota (ou digite -1 para parar): 0\n",
            "Digite uma nota (ou digite -1 para parar): -1\n",
            "A média das notas digitadas é: 5.2\n"
          ]
        }
      ]
    },
    {
      "cell_type": "code",
      "source": [
        "def encontrar_maior(num1, num2, num3):\n",
        "    maior = num1\n",
        "    if num2 > maior:\n",
        "        maior = num2\n",
        "    if num3 > maior:\n",
        "        maior = num3\n",
        "    return maior\n",
        "\n",
        "# Solicita ao usuário que digite três números\n",
        "num1 = float(input(\"Digite o primeiro número: \"))\n",
        "num2 = float(input(\"Digite o segundo número: \"))\n",
        "num3 = float(input(\"Digite o terceiro número: \"))\n",
        "\n",
        "# Chama a função para encontrar o maior número\n",
        "maior_numero = encontrar_maior(num1, num2, num3)\n",
        "\n",
        "# Exibe o resultado\n",
        "print(f\"O maior número digitado é: {maior_numero}\")"
      ],
      "metadata": {
        "colab": {
          "base_uri": "https://localhost:8080/"
        },
        "id": "B4mBVZ3fWmca",
        "outputId": "246c0c56-2745-4791-d561-eedd8ca327b6"
      },
      "execution_count": null,
      "outputs": [
        {
          "output_type": "stream",
          "name": "stdout",
          "text": [
            "Digite o primeiro número: 6\n",
            "Digite o segundo número: 7\n",
            "Digite o terceiro número: 8\n",
            "O maior número digitado é: 8.0\n"
          ]
        }
      ]
    },
    {
      "cell_type": "code",
      "source": [
        "#Programa de controle de qualidade de água\n",
        "print(\"Insira o nível de cloro da água para verificar se está dentro do padrão\")\n",
        "\n",
        "while True: #loop infinito // infinete loop\n",
        "  nivel_cloro = float(input(\"Digite o nível de cloro em mg/L: \"))\n",
        "  #verificando se o 0.2 > nivel_cloro < 2\n",
        "  if nivel_cloro < 0.2:\n",
        "    print(\"Atenção: O nível do cloro está abaixo do padrão aceitável\")\n",
        "  elif nivel_cloro > 2.0:\n",
        "    print(\"Atenção: O nível do cloro está abaixo do padrão aceitável\")\n",
        "  else:\n",
        "    print(\"O nível do cloro está nos padrões aceitáveis.\")\n",
        "    break"
      ],
      "metadata": {
        "colab": {
          "base_uri": "https://localhost:8080/"
        },
        "id": "qZ9GRKe0XU-p",
        "outputId": "593ff205-a3eb-4661-a4f3-37d4f3efe484"
      },
      "execution_count": 17,
      "outputs": [
        {
          "output_type": "stream",
          "name": "stdout",
          "text": [
            "Insira o nível de cloro da água para verificar se está dentro do padrão\n",
            "Digite o nível de cloro em mg/L: 1\n",
            "O nível do cloro está nos padrões aceitáveis.\n"
          ]
        }
      ]
    },
    {
      "cell_type": "code",
      "source": [
        "# Imprimir todos os números ímpares de 1 a 50 usando um loop for\n",
        "for num in range(1, 51, 2):\n",
        "    print(num)"
      ],
      "metadata": {
        "colab": {
          "base_uri": "https://localhost:8080/"
        },
        "id": "H5D-syr1eEh6",
        "outputId": "c462f941-ed8a-4a06-b8cb-46af23381ba1"
      },
      "execution_count": 18,
      "outputs": [
        {
          "output_type": "stream",
          "name": "stdout",
          "text": [
            "1\n",
            "3\n",
            "5\n",
            "7\n",
            "9\n",
            "11\n",
            "13\n",
            "15\n",
            "17\n",
            "19\n",
            "21\n",
            "23\n",
            "25\n",
            "27\n",
            "29\n",
            "31\n",
            "33\n",
            "35\n",
            "37\n",
            "39\n",
            "41\n",
            "43\n",
            "45\n",
            "47\n",
            "49\n"
          ]
        }
      ]
    },
    {
      "cell_type": "code",
      "source": [
        "# Lista de nomes de frutas\n",
        "frutas = ['maçã', 'banana', 'laranja', 'maçã', 'uva', 'banana', 'maçã']\n",
        "\n",
        "# Dicionário para contar a quantidade de cada fruta\n",
        "contagem_frutas = {}\n",
        "\n",
        "# Contagem das frutas usando um loop for\n",
        "for fruta in frutas:\n",
        "    if fruta in contagem_frutas:\n",
        "        contagem_frutas[fruta] += 1\n",
        "    else:\n",
        "        contagem_frutas[fruta] = 1\n",
        "\n",
        "# Imprimir o resultado da contagem\n",
        "print(\"Contagem de frutas:\")\n",
        "for fruta, quantidade in contagem_frutas.items():\n",
        "    print(f\"{fruta}: {quantidade}\")\n",
        "\n",
        "# Adicionando mais uma fruta à lista\n",
        "frutas.append('morango')\n",
        "\n",
        "# Atualizando a contagem das frutas\n",
        "contagem_frutas['morango'] = contagem_frutas.get('morango', 0) + 1\n",
        "\n",
        "# Imprimir a contagem atualizada\n",
        "print(\"\\nContagem atualizada de frutas:\")\n",
        "for fruta, quantidade in contagem_frutas.items():\n",
        "    print(f\"{fruta}: {quantidade}\")"
      ],
      "metadata": {
        "colab": {
          "base_uri": "https://localhost:8080/"
        },
        "id": "R8neUW-gfAil",
        "outputId": "5cb4c92c-5cfb-4912-a3f5-598409e72557"
      },
      "execution_count": 19,
      "outputs": [
        {
          "output_type": "stream",
          "name": "stdout",
          "text": [
            "Contagem de frutas:\n",
            "maçã: 3\n",
            "banana: 2\n",
            "laranja: 1\n",
            "uva: 1\n",
            "\n",
            "Contagem atualizada de frutas:\n",
            "maçã: 3\n",
            "banana: 2\n",
            "laranja: 1\n",
            "uva: 1\n",
            "morango: 1\n"
          ]
        }
      ]
    }
  ]
}