{
  "nbformat": 4,
  "nbformat_minor": 0,
  "metadata": {
    "colab": {
      "provenance": [],
      "authorship_tag": "ABX9TyPC/MtmyQmEjVpRCBpCGVVb",
      "include_colab_link": true
    },
    "kernelspec": {
      "name": "python3",
      "display_name": "Python 3"
    },
    "language_info": {
      "name": "python"
    }
  },
  "cells": [
    {
      "cell_type": "markdown",
      "metadata": {
        "id": "view-in-github",
        "colab_type": "text"
      },
      "source": [
        "<a href=\"https://colab.research.google.com/github/marcocastroo/Algoritmo/blob/main/Exerc%C3%ADcio_6_Algoritmo.ipynb\" target=\"_parent\"><img src=\"https://colab.research.google.com/assets/colab-badge.svg\" alt=\"Open In Colab\"/></a>"
      ]
    },
    {
      "cell_type": "code",
      "source": [
        "ano = int(input(\"Que ano quer analisar?\"))\n",
        "if ano % 4 == 0:\n",
        "  print(\"O ano {} é BISSEXTO\".format(ano))\n",
        "else:\n",
        "  print(\"O ano {} não é BISSEXTO\".format(ano))"
      ],
      "metadata": {
        "colab": {
          "base_uri": "https://localhost:8080/"
        },
        "id": "14jc3-YHOtKw",
        "outputId": "3f400bd8-7570-4d73-8ba1-87c0eb9602b3"
      },
      "execution_count": 25,
      "outputs": [
        {
          "output_type": "stream",
          "name": "stdout",
          "text": [
            "Que ano quer analisar?2024\n",
            "O ano 2024 é BISSEXTO\n"
          ]
        }
      ]
    }
  ]
}