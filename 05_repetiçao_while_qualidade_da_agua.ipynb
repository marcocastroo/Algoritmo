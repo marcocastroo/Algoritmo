{
  "nbformat": 4,
  "nbformat_minor": 0,
  "metadata": {
    "colab": {
      "provenance": [],
      "authorship_tag": "ABX9TyOZfN7Jkmy2pnBwiJPz3GPB",
      "include_colab_link": true
    },
    "kernelspec": {
      "name": "python3",
      "display_name": "Python 3"
    },
    "language_info": {
      "name": "python"
    }
  },
  "cells": [
    {
      "cell_type": "markdown",
      "metadata": {
        "id": "view-in-github",
        "colab_type": "text"
      },
      "source": [
        "<a href=\"https://colab.research.google.com/github/marcocastroo/Algoritmo/blob/main/05_repeti%C3%A7ao_while_qualidade_da_agua.ipynb\" target=\"_parent\"><img src=\"https://colab.research.google.com/assets/colab-badge.svg\" alt=\"Open In Colab\"/></a>"
      ]
    },
    {
      "cell_type": "code",
      "source": [
        "#Programa de controle de qualidade de água\n",
        "print(\"Insira o nível de cloro da água para verificar se está dentro do padrão\")\n",
        "\n",
        "while True: #loop infinito // infinete loop\n",
        "  nivel_cloro = float(input(\"Digite o nível de cloro em mg/L: \"))\n",
        "  #verificando se o 0.2 > nivel_cloro < 2\n",
        "  if nivel_cloro < 0.2:\n",
        "    print(\"Atenção: O nível do cloro está abaixo do padrão aceitável\")\n",
        "  elif nivel_cloro > 2.0:\n",
        "    print(\"Atenção: O nível do cloro está abaixo do padrão aceitável\")\n",
        "  else:\n",
        "    print(\"O nível do cloro está nos padrões aceitáveis.\")\n",
        "    break\n"
      ],
      "metadata": {
        "colab": {
          "base_uri": "https://localhost:8080/"
        },
        "id": "TB1Uq2JRyGL2",
        "outputId": "77871cb6-85e4-4ecd-b955-eefd66944c26"
      },
      "execution_count": 19,
      "outputs": [
        {
          "output_type": "stream",
          "name": "stdout",
          "text": [
            "Insira o nível de cloro da água para verificar se está dentro do padrão\n",
            "Digite o nível de cloro em mg/L: 2\n",
            "O nível do cloro está nos padrões aceitáveis.\n"
          ]
        }
      ]
    }
  ]
}