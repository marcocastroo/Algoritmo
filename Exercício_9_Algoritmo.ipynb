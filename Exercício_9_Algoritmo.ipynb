{
  "nbformat": 4,
  "nbformat_minor": 0,
  "metadata": {
    "colab": {
      "provenance": [],
      "authorship_tag": "ABX9TyN+lyd1vDPi/M1zrlvaHv5Q",
      "include_colab_link": true
    },
    "kernelspec": {
      "name": "python3",
      "display_name": "Python 3"
    },
    "language_info": {
      "name": "python"
    }
  },
  "cells": [
    {
      "cell_type": "markdown",
      "metadata": {
        "id": "view-in-github",
        "colab_type": "text"
      },
      "source": [
        "<a href=\"https://colab.research.google.com/github/marcocastroo/Algoritmo/blob/main/Exerc%C3%ADcio_9_Algoritmo.ipynb\" target=\"_parent\"><img src=\"https://colab.research.google.com/assets/colab-badge.svg\" alt=\"Open In Colab\"/></a>"
      ]
    },
    {
      "cell_type": "code",
      "source": [
        "soma = 0\n",
        "cont = 0\n",
        "for c in range(1, 3):\n",
        "  num = int(input(\"Digite o {} valor:\".format(c)))\n",
        "  if num % 2 == 0:\n",
        "    soma += num\n",
        "    cont += 1\n",
        "print(\"Você informou {} números pares e a soma foi {}\".format(cont, soma))"
      ],
      "metadata": {
        "colab": {
          "base_uri": "https://localhost:8080/"
        },
        "id": "ID-9c6_dcglA",
        "outputId": "5655bbe7-9063-426b-da9a-f49fb6ae7e77"
      },
      "execution_count": 52,
      "outputs": [
        {
          "output_type": "stream",
          "name": "stdout",
          "text": [
            "Digite o 1 valor:2\n",
            "Digite o 2 valor:4\n",
            "Você informou 2 números pares e a soma foi 6\n"
          ]
        }
      ]
    }
  ]
}