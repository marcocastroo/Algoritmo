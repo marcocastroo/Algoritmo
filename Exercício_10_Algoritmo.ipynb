{
  "nbformat": 4,
  "nbformat_minor": 0,
  "metadata": {
    "colab": {
      "provenance": [],
      "authorship_tag": "ABX9TyOtm/LS5siK3pzHCTX6d05f",
      "include_colab_link": true
    },
    "kernelspec": {
      "name": "python3",
      "display_name": "Python 3"
    },
    "language_info": {
      "name": "python"
    }
  },
  "cells": [
    {
      "cell_type": "markdown",
      "metadata": {
        "id": "view-in-github",
        "colab_type": "text"
      },
      "source": [
        "<a href=\"https://colab.research.google.com/github/marcocastroo/Algoritmo/blob/main/Exerc%C3%ADcio_10_Algoritmo.ipynb\" target=\"_parent\"><img src=\"https://colab.research.google.com/assets/colab-badge.svg\" alt=\"Open In Colab\"/></a>"
      ]
    },
    {
      "cell_type": "code",
      "source": [
        "n = 3\n",
        "\n",
        "primo = 1\n",
        "for i in range(2,n):\n",
        "  if (n % i == 0):\n",
        "    primo = 0\n",
        "\n",
        "  if (primo == 1):\n",
        "    print(n, \"É primo\")\n",
        "  else:\n",
        "    print(n, \"Não primo\")\n"
      ],
      "metadata": {
        "colab": {
          "base_uri": "https://localhost:8080/"
        },
        "id": "bfe33ydbe4Yv",
        "outputId": "e3373e53-4574-4de7-a471-f655af631cf7"
      },
      "execution_count": 74,
      "outputs": [
        {
          "output_type": "stream",
          "name": "stdout",
          "text": [
            "3 É primo\n"
          ]
        }
      ]
    }
  ]
}