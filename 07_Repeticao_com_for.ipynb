{
  "nbformat": 4,
  "nbformat_minor": 0,
  "metadata": {
    "colab": {
      "provenance": [],
      "authorship_tag": "ABX9TyORu1/MoqUGjRxyVlsz+KKw",
      "include_colab_link": true
    },
    "kernelspec": {
      "name": "python3",
      "display_name": "Python 3"
    },
    "language_info": {
      "name": "python"
    }
  },
  "cells": [
    {
      "cell_type": "markdown",
      "metadata": {
        "id": "view-in-github",
        "colab_type": "text"
      },
      "source": [
        "<a href=\"https://colab.research.google.com/github/marcocastroo/Algoritmo/blob/main/07_Repeticao_com_for.ipynb\" target=\"_parent\"><img src=\"https://colab.research.google.com/assets/colab-badge.svg\" alt=\"Open In Colab\"/></a>"
      ]
    },
    {
      "cell_type": "code",
      "execution_count": 1,
      "metadata": {
        "colab": {
          "base_uri": "https://localhost:8080/"
        },
        "id": "opkSjq8igxUD",
        "outputId": "0fa2c757-0035-444d-c5fd-d79f85ea0cb9"
      },
      "outputs": [
        {
          "output_type": "stream",
          "name": "stdout",
          "text": [
            "1: spam\n",
            "2: eggs\n",
            "3: bacon\n"
          ]
        }
      ],
      "source": [
        "contador = 0\n",
        "for x in ['spam', 'eggs', 'bacon']:\n",
        "  contador += 1\n",
        "  print(f\"{contador}: {x}\")"
      ]
    },
    {
      "cell_type": "code",
      "source": [
        "T = [(1,2), (3,4), (5,6)]\n",
        "for (a,b) in T:\n",
        "  print(a, \"e\" ,b)"
      ],
      "metadata": {
        "colab": {
          "base_uri": "https://localhost:8080/"
        },
        "id": "cp94dPAwj1aH",
        "outputId": "f6b6ecd4-8cb7-4dbe-c85e-63deebf5afe8"
      },
      "execution_count": 2,
      "outputs": [
        {
          "output_type": "stream",
          "name": "stdout",
          "text": [
            "1 e 2\n",
            "3 e 4\n",
            "5 e 6\n"
          ]
        }
      ]
    },
    {
      "cell_type": "code",
      "source": [
        "#Dicionário em python\n",
        "D = {'a': 1, 'b': 2, 'c':3}\n",
        "for chave in D:\n",
        "  print(chave,'=>',D[chave])"
      ],
      "metadata": {
        "colab": {
          "base_uri": "https://localhost:8080/"
        },
        "id": "4etAh7xwlCqw",
        "outputId": "871c110c-e7a2-470f-a25b-35586381b0d1"
      },
      "execution_count": 3,
      "outputs": [
        {
          "output_type": "stream",
          "name": "stdout",
          "text": [
            "a => 1\n",
            "b => 2\n",
            "c => 3\n"
          ]
        }
      ]
    },
    {
      "cell_type": "code",
      "source": [
        "list(range(5))"
      ],
      "metadata": {
        "colab": {
          "base_uri": "https://localhost:8080/"
        },
        "id": "wHWUlkdNmjac",
        "outputId": "60922b65-faaf-43c0-fd2b-1b527e1d7bfc"
      },
      "execution_count": 4,
      "outputs": [
        {
          "output_type": "execute_result",
          "data": {
            "text/plain": [
              "[0, 1, 2, 3, 4]"
            ]
          },
          "metadata": {},
          "execution_count": 4
        }
      ]
    },
    {
      "cell_type": "code",
      "source": [
        "for i in range(5):\n",
        "  print(i, \"pythons\")"
      ],
      "metadata": {
        "colab": {
          "base_uri": "https://localhost:8080/"
        },
        "id": "TR8iGFM1nX6T",
        "outputId": "17b1ce1d-751e-4fec-bcc5-655b85e4f9d4"
      },
      "execution_count": 5,
      "outputs": [
        {
          "output_type": "stream",
          "name": "stdout",
          "text": [
            "0 pythons\n",
            "1 pythons\n",
            "2 pythons\n",
            "3 pythons\n",
            "4 pythons\n"
          ]
        }
      ]
    },
    {
      "cell_type": "code",
      "source": [
        "s = 'Marco'\n",
        "print(\"Tamanho da palavra:\", len(s))\n",
        "for i in range(len(s)):\n",
        "  print(i,s[i],sep='-',end='-')"
      ],
      "metadata": {
        "colab": {
          "base_uri": "https://localhost:8080/"
        },
        "id": "04xIwcwEnnY7",
        "outputId": "ccd68e60-6618-4a6d-ad7c-a3949e9afb51"
      },
      "execution_count": 7,
      "outputs": [
        {
          "output_type": "stream",
          "name": "stdout",
          "text": [
            "Tamanho da palavra: 5\n",
            "0-M-1-a-2-r-3-c-4-o-"
          ]
        }
      ]
    },
    {
      "cell_type": "code",
      "source": [
        "L1 = ['a','b','c','d']\n",
        "L2 = [1,2,3,4]\n",
        "print(list(L1))\n",
        "print(list(L2))\n",
        "compactado = zip(L1,L2)\n",
        "print(list(compactado))\n",
        "print(type(compactado))\n",
        "print(type(list(zip(L1,L2))))\n",
        "for (x,y) in list(zip(L1,L2)):\n",
        "  print(x,\"-\",y)"
      ],
      "metadata": {
        "colab": {
          "base_uri": "https://localhost:8080/"
        },
        "id": "nBn_C3cFrEOc",
        "outputId": "b89e7eb0-c981-4ccf-b8b3-e8d9f80ccbcf"
      },
      "execution_count": 11,
      "outputs": [
        {
          "output_type": "stream",
          "name": "stdout",
          "text": [
            "['a', 'b', 'c', 'd']\n",
            "[1, 2, 3, 4]\n",
            "[('a', 1), ('b', 2), ('c', 3), ('d', 4)]\n",
            "<class 'zip'>\n",
            "<class 'list'>\n",
            "a - 1\n",
            "b - 2\n",
            "c - 3\n",
            "d - 4\n"
          ]
        }
      ]
    },
    {
      "cell_type": "markdown",
      "source": [
        "zip"
      ],
      "metadata": {
        "id": "u2-AYigtusRz"
      }
    },
    {
      "cell_type": "code",
      "source": [
        "#zip vai criar um dictionary a partir de listas#\n",
        "chaves = ['a','b','c','d']\n",
        "valores = [1,2,3,4]\n",
        "D1 = dict(zip(chaves, valores))\n",
        "print(D1)"
      ],
      "metadata": {
        "colab": {
          "base_uri": "https://localhost:8080/"
        },
        "id": "NFMX2Wg0uvKb",
        "outputId": "d4f96a32-30e3-4cfe-b330-81e22474d80f"
      },
      "execution_count": 12,
      "outputs": [
        {
          "output_type": "stream",
          "name": "stdout",
          "text": [
            "{'a': 1, 'b': 2, 'c': 3, 'd': 4}\n"
          ]
        }
      ]
    },
    {
      "cell_type": "markdown",
      "source": [
        "Enumerate"
      ],
      "metadata": {
        "id": "MRqmFbBavUYd"
      }
    },
    {
      "cell_type": "code",
      "source": [
        "s='moises'\n",
        "print(enumerate(s))\n",
        "print(list(enumerate(s)))\n",
        "for (offset,valor) in enumerate(s):\n",
        "  print(offset,valor)"
      ],
      "metadata": {
        "colab": {
          "base_uri": "https://localhost:8080/"
        },
        "id": "CsRqUguOvX4l",
        "outputId": "435e5b42-ecb1-451c-cc97-51b3fbdc456c"
      },
      "execution_count": 13,
      "outputs": [
        {
          "output_type": "stream",
          "name": "stdout",
          "text": [
            "<enumerate object at 0x7f378dda7380>\n",
            "[(0, 'm'), (1, 'o'), (2, 'i'), (3, 's'), (4, 'e'), (5, 's')]\n",
            "0 m\n",
            "1 o\n",
            "2 i\n",
            "3 s\n",
            "4 e\n",
            "5 s\n"
          ]
        }
      ]
    }
  ]
}