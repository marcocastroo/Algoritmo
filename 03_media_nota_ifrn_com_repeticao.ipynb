{
  "nbformat": 4,
  "nbformat_minor": 0,
  "metadata": {
    "colab": {
      "provenance": [],
      "authorship_tag": "ABX9TyOoRS5M2IC4Njz6PIGuQeQT",
      "include_colab_link": true
    },
    "kernelspec": {
      "name": "python3",
      "display_name": "Python 3"
    },
    "language_info": {
      "name": "python"
    }
  },
  "cells": [
    {
      "cell_type": "markdown",
      "metadata": {
        "id": "view-in-github",
        "colab_type": "text"
      },
      "source": [
        "<a href=\"https://colab.research.google.com/github/marcocastroo/Algoritmo/blob/main/03_media_nota_ifrn_com_repeticao.ipynb\" target=\"_parent\"><img src=\"https://colab.research.google.com/assets/colab-badge.svg\" alt=\"Open In Colab\"/></a>"
      ]
    },
    {
      "cell_type": "code",
      "execution_count": 3,
      "metadata": {
        "colab": {
          "base_uri": "https://localhost:8080/"
        },
        "id": "pVLLo7cWhiVW",
        "outputId": "e6a0c26d-67d4-4b99-a501-b095dca0b087"
      },
      "outputs": [
        {
          "output_type": "stream",
          "name": "stdout",
          "text": [
            "Calculadora de média ponderada IFRN\n",
            "Digite o número de alunos3\n",
            "\n",
            "Aluno 1:\n",
            "Digite a nota 1 (com peso 2): 3\n",
            "Digite a nota 2 (com peso 3): 5\n",
            "A média ponderada das notas é: 4.20\n",
            "Reprovado\n",
            "\n",
            "Aluno 2:\n",
            "Digite a nota 1 (com peso 2): 4\n",
            "Digite a nota 2 (com peso 3): 6\n",
            "A média ponderada das notas é: 5.20\n",
            "Prova final\n",
            "\n",
            "Aluno 3:\n",
            "Digite a nota 1 (com peso 2): 5\n",
            "Digite a nota 2 (com peso 3): 8\n",
            "A média ponderada das notas é: 6.80\n",
            "Aprovado\n"
          ]
        }
      ],
      "source": [
        "print (\"Calculadora de média ponderada IFRN\")\n",
        "\n",
        "#Perguntando, para quantos alunos, desejo calcular média\n",
        "num_alunos = int(input(\"Digite o número de alunos\"))\n",
        "\n",
        "for aluno in range(1, num_alunos+1):\n",
        "  #imprima o número do aluno da vez\n",
        "  print(f\"\\nAluno {aluno}:\")\n",
        "\n",
        "  #Float, tipagem explícita, para garantir número fracionado\n",
        "  n1 = float( input (\"Digite a nota 1 (com peso 2): \"))\n",
        "  n2 = float( input (\"Digite a nota 2 (com peso 3): \"))\n",
        "  #calculo da média ponderada\n",
        "  media = (n1 * 2 + n2 * 3) / 5\n",
        "\n",
        "  #impressão da média\n",
        "  print (f\"A média ponderada das notas é: {media:.2f}\")\n",
        "\n",
        "  #apresentar se o aluno foi aprovado ou não\n",
        "  if media >= 6:\n",
        "    print (\"Aprovado\")\n",
        "  else:\n",
        "      if n1 >= 4 and n2 >=4:\n",
        "        print(\"Prova final\")\n",
        "      else:\n",
        "        print(\"Reprovado\")"
      ]
    }
  ]
}