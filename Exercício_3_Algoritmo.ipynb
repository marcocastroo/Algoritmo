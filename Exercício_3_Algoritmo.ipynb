{
  "nbformat": 4,
  "nbformat_minor": 0,
  "metadata": {
    "colab": {
      "provenance": [],
      "authorship_tag": "ABX9TyMCVmuEBjISYXwKX5Fhs3I0",
      "include_colab_link": true
    },
    "kernelspec": {
      "name": "python3",
      "display_name": "Python 3"
    },
    "language_info": {
      "name": "python"
    }
  },
  "cells": [
    {
      "cell_type": "markdown",
      "metadata": {
        "id": "view-in-github",
        "colab_type": "text"
      },
      "source": [
        "<a href=\"https://colab.research.google.com/github/marcocastroo/Algoritmo/blob/main/Exerc%C3%ADcio_3_Algoritmo.ipynb\" target=\"_parent\"><img src=\"https://colab.research.google.com/assets/colab-badge.svg\" alt=\"Open In Colab\"/></a>"
      ]
    },
    {
      "cell_type": "code",
      "source": [
        "c = float(input(\"Digite a temperatura em *C: \"))\n",
        "f = c * 9/5 + 32\n",
        "print(\"A temperatura de {}*C corresponde a {}*F\".format(c, f))"
      ],
      "metadata": {
        "colab": {
          "base_uri": "https://localhost:8080/"
        },
        "id": "gtIWRelzHFIX",
        "outputId": "b90869b9-492c-46cc-c037-2164657c5bc7"
      },
      "execution_count": 14,
      "outputs": [
        {
          "output_type": "stream",
          "name": "stdout",
          "text": [
            "Digite a temperatura em *C: 36\n",
            "A temperatura de 36.0*C corresponde a 96.8*F\n"
          ]
        }
      ]
    }
  ]
}