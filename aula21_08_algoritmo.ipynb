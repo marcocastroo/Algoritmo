{
  "nbformat": 4,
  "nbformat_minor": 0,
  "metadata": {
    "colab": {
      "provenance": [],
      "authorship_tag": "ABX9TyOKNujCgr4DL8d9i0tfLu2A",
      "include_colab_link": true
    },
    "kernelspec": {
      "name": "python3",
      "display_name": "Python 3"
    },
    "language_info": {
      "name": "python"
    }
  },
  "cells": [
    {
      "cell_type": "markdown",
      "metadata": {
        "id": "view-in-github",
        "colab_type": "text"
      },
      "source": [
        "<a href=\"https://colab.research.google.com/github/marcocastroo/Algoritmo/blob/main/aula21_08_algoritmo.ipynb\" target=\"_parent\"><img src=\"https://colab.research.google.com/assets/colab-badge.svg\" alt=\"Open In Colab\"/></a>"
      ]
    },
    {
      "cell_type": "code",
      "execution_count": null,
      "metadata": {
        "id": "iiH6bFxSl3AG"
      },
      "outputs": [],
      "source": [
        "#programa para avaliar saída de uma função dado uma entrda\n",
        "import random\n",
        "\n",
        "#esqueleto de uma função para gerar uma lista de 28 números aleatórios distintos entre 1 e 1000\n",
        "def gerar_lista_açleatoria():\n",
        "  pass\n",
        "\n",
        "#esqueleto de uma função para gerar uma lista de 28 números aleatórios distintos entre 1 e 1000\n",
        "def gerar_lista_açleatoria_distintas():\n",
        "  pass\n",
        "\n",
        "#esqueleto de uma função para embaralhar a lista\n",
        "def embaralhar_lista():\n",
        "  pass"
      ]
    }
  ]
}