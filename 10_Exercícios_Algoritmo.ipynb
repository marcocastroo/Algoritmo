{
  "nbformat": 4,
  "nbformat_minor": 0,
  "metadata": {
    "colab": {
      "provenance": [],
      "authorship_tag": "ABX9TyPywF/8g257aOuL/g7kNEEX",
      "include_colab_link": true
    },
    "kernelspec": {
      "name": "python3",
      "display_name": "Python 3"
    },
    "language_info": {
      "name": "python"
    }
  },
  "cells": [
    {
      "cell_type": "markdown",
      "metadata": {
        "id": "view-in-github",
        "colab_type": "text"
      },
      "source": [
        "<a href=\"https://colab.research.google.com/github/marcocastroo/Algoritmo/blob/main/10_Exerc%C3%ADcios_Algoritmo.ipynb\" target=\"_parent\"><img src=\"https://colab.research.google.com/assets/colab-badge.svg\" alt=\"Open In Colab\"/></a>"
      ]
    },
    {
      "cell_type": "code",
      "source": [
        "peso = float(input(\"Qual é seu peso? (kg)\"))\n",
        "altura = float(input(\"Qual é sua altura (m)\"))\n",
        "imc = peso / (altura * altura)\n",
        "print(\"O IMC dessa pessoa é de {:.1f}\".format(imc))\n",
        "if imc < 18.5:\n",
        "  print(\"Baixo peso\")\n",
        "elif imc >= 18.5 and imc < 25:\n",
        "  print(\"Peso normal\")\n",
        "elif imc >= 25 and imc < 30:\n",
        "  print(\"Sobrepeso\")\n",
        "elif imc > 30:\n",
        "  print(\"Obesidade\")"
      ],
      "metadata": {
        "colab": {
          "base_uri": "https://localhost:8080/"
        },
        "id": "y_LqpF82_DD9",
        "outputId": "d2f72a50-2af2-4de1-8df8-0836d35efb59"
      },
      "execution_count": 8,
      "outputs": [
        {
          "output_type": "stream",
          "name": "stdout",
          "text": [
            "Qual é seu peso? (kg)150\n",
            "Qual é sua altura (m)1.70\n",
            "O IMC dessa pessoa é de 51.9\n",
            "Obesidade\n"
          ]
        }
      ]
    }
  ]
}