{
  "nbformat": 4,
  "nbformat_minor": 0,
  "metadata": {
    "colab": {
      "provenance": [],
      "authorship_tag": "ABX9TyNDyDK21vBJrvuySQB2n+nR",
      "include_colab_link": true
    },
    "kernelspec": {
      "name": "python3",
      "display_name": "Python 3"
    },
    "language_info": {
      "name": "python"
    }
  },
  "cells": [
    {
      "cell_type": "markdown",
      "metadata": {
        "id": "view-in-github",
        "colab_type": "text"
      },
      "source": [
        "<a href=\"https://colab.research.google.com/github/marcocastroo/Algoritmo/blob/main/Exerc%C3%ADcio_7_Algoritmo.ipynb\" target=\"_parent\"><img src=\"https://colab.research.google.com/assets/colab-badge.svg\" alt=\"Open In Colab\"/></a>"
      ]
    },
    {
      "cell_type": "code",
      "source": [
        "string = input(\"Digite uma string:\")\n",
        "vogais = \"aeiouAEIOU\"\n",
        "contador = 0\n",
        "for char in string:\n",
        "  if char in vogais:\n",
        "    contador +=1\n",
        "\n",
        "print(\"números de vogais na string.\", contador)\n",
        "\n"
      ],
      "metadata": {
        "colab": {
          "base_uri": "https://localhost:8080/"
        },
        "id": "Hnn4RJcvQyVp",
        "outputId": "c04a0b8b-3540-418e-ae58-ff6b02f5d70c"
      },
      "execution_count": 38,
      "outputs": [
        {
          "output_type": "stream",
          "name": "stdout",
          "text": [
            "Digite uma string:marco\n",
            "números de vogais na string. 2\n"
          ]
        }
      ]
    }
  ]
}