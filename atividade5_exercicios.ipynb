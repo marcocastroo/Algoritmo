{
  "nbformat": 4,
  "nbformat_minor": 0,
  "metadata": {
    "colab": {
      "provenance": [],
      "authorship_tag": "ABX9TyNQL4UForSG2rmdt7HphhVg",
      "include_colab_link": true
    },
    "kernelspec": {
      "name": "python3",
      "display_name": "Python 3"
    },
    "language_info": {
      "name": "python"
    }
  },
  "cells": [
    {
      "cell_type": "markdown",
      "metadata": {
        "id": "view-in-github",
        "colab_type": "text"
      },
      "source": [
        "<a href=\"https://colab.research.google.com/github/marcocastroo/Algoritmo/blob/main/atividade5_exercicios.ipynb\" target=\"_parent\"><img src=\"https://colab.research.google.com/assets/colab-badge.svg\" alt=\"Open In Colab\"/></a>"
      ]
    },
    {
      "cell_type": "code",
      "execution_count": null,
      "metadata": {
        "colab": {
          "base_uri": "https://localhost:8080/"
        },
        "id": "pQz-2BGkbl6_",
        "outputId": "101a1fef-7afd-43af-baa3-b78fe54632a9"
      },
      "outputs": [
        {
          "output_type": "stream",
          "name": "stdout",
          "text": [
            "Digite um numéro inteiro: -1\n",
            "99\n"
          ]
        }
      ],
      "source": [
        "numero = int(input(\"Digite um número inteiro: \"))\n",
        "\n",
        "if numero < 0:\n",
        "  print(numero + 100)\n",
        "else:\n",
        "  print(\"Número inteiro\")"
      ]
    },
    {
      "cell_type": "code",
      "source": [
        "codigo = int(input(\"Digite um código curso: \"))\n",
        "\n",
        "if codigo == 1:\n",
        "  print(\"Técnico em Informática Subsequente\")\n",
        "elif codigo == 2:\n",
        "  print(\"Técnico em Informática EJA\")\n",
        "elif codigo ==3:\n",
        "  print(\"Técnico em Cooperatismo\")\n",
        "elif codigo == 4:\n",
        "  print(\"Técnico em Cooperatismo EJA\")\n",
        "elif codigo == 5:\n",
        "  print(\"Licenciatura em Física\")\n",
        "else:\n",
        "  print(\"Atenção! código inválido\")\n",
        "\n"
      ],
      "metadata": {
        "colab": {
          "base_uri": "https://localhost:8080/"
        },
        "id": "EGDWTE6rQThj",
        "outputId": "baf876fc-b012-4085-8bcb-35e648a789f2"
      },
      "execution_count": null,
      "outputs": [
        {
          "output_type": "stream",
          "name": "stdout",
          "text": [
            "Digite um código curso: 1\n",
            "Técnico em Informática Subsequente\n"
          ]
        }
      ]
    },
    {
      "cell_type": "code",
      "source": [
        "string1 = \"Brasil Hexa 2006\"\n",
        "string2 = \"Brasil! Hexa 2006!\"\n",
        "\n",
        "res1 = len(string1) == len(string2)\n",
        "\n",
        "print(res1)\n"
      ],
      "metadata": {
        "id": "qKsS1N2KQT77",
        "colab": {
          "base_uri": "https://localhost:8080/"
        },
        "outputId": "5a7ca4d6-531a-4a00-aef4-e2e64b26fe7e"
      },
      "execution_count": 19,
      "outputs": [
        {
          "output_type": "stream",
          "name": "stdout",
          "text": [
            "False\n"
          ]
        }
      ]
    },
    {
      "cell_type": "code",
      "source": [
        "string1 = \"Brasil Hexa 2006\"\n",
        "string2 = \"Brasil! Hexa 2006!\"\n",
        "\n",
        "res2 = (string1 == string2)\n",
        "\n",
        "print(res2)"
      ],
      "metadata": {
        "colab": {
          "base_uri": "https://localhost:8080/"
        },
        "id": "foxVXwviEpk9",
        "outputId": "7a040a9c-a584-4298-f58c-4229639ef6cb"
      },
      "execution_count": 9,
      "outputs": [
        {
          "output_type": "stream",
          "name": "stdout",
          "text": [
            "False\n"
          ]
        }
      ]
    },
    {
      "cell_type": "code",
      "source": [
        "b = \"0123456789\"\n",
        "\n",
        "print(b[2:-2])"
      ],
      "metadata": {
        "colab": {
          "base_uri": "https://localhost:8080/"
        },
        "id": "s5Vdf74tJgNc",
        "outputId": "52c5ba25-16bf-4199-888c-7dfcc3aa17b1"
      },
      "execution_count": 18,
      "outputs": [
        {
          "output_type": "stream",
          "name": "stdout",
          "text": [
            "234567\n"
          ]
        }
      ]
    }
  ]
}