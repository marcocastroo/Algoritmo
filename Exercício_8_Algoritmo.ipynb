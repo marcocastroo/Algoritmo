{
  "nbformat": 4,
  "nbformat_minor": 0,
  "metadata": {
    "colab": {
      "provenance": [],
      "authorship_tag": "ABX9TyNDkL1AzPOcGfUm5kSdfzXT",
      "include_colab_link": true
    },
    "kernelspec": {
      "name": "python3",
      "display_name": "Python 3"
    },
    "language_info": {
      "name": "python"
    }
  },
  "cells": [
    {
      "cell_type": "markdown",
      "metadata": {
        "id": "view-in-github",
        "colab_type": "text"
      },
      "source": [
        "<a href=\"https://colab.research.google.com/github/marcocastroo/Algoritmo/blob/main/Exerc%C3%ADcio_8_Algoritmo.ipynb\" target=\"_parent\"><img src=\"https://colab.research.google.com/assets/colab-badge.svg\" alt=\"Open In Colab\"/></a>"
      ]
    },
    {
      "cell_type": "code",
      "source": [
        "from math import factorial\n",
        "n = int(input(\"Digite um número para calcular seu fatorial:\"))\n",
        "f = factorial(n)\n",
        "print(\"O fatorial de {} é {}\".format(n, f))"
      ],
      "metadata": {
        "colab": {
          "base_uri": "https://localhost:8080/"
        },
        "id": "qzrWMTpnW9nL",
        "outputId": "fd86c9e4-82d5-4176-99b4-be8d9e40fd11"
      },
      "execution_count": 42,
      "outputs": [
        {
          "output_type": "stream",
          "name": "stdout",
          "text": [
            "Digite um número para calcular seu fatorial:10\n",
            "O fatorial de 10 é 3628800\n"
          ]
        }
      ]
    }
  ]
}