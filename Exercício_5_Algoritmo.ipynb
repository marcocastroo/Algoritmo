{
  "nbformat": 4,
  "nbformat_minor": 0,
  "metadata": {
    "colab": {
      "provenance": [],
      "authorship_tag": "ABX9TyN4zKNr4EMZLfkYEkCzQcAp",
      "include_colab_link": true
    },
    "kernelspec": {
      "name": "python3",
      "display_name": "Python 3"
    },
    "language_info": {
      "name": "python"
    }
  },
  "cells": [
    {
      "cell_type": "markdown",
      "metadata": {
        "id": "view-in-github",
        "colab_type": "text"
      },
      "source": [
        "<a href=\"https://colab.research.google.com/github/marcocastroo/Algoritmo/blob/main/Exerc%C3%ADcio_5_Algoritmo.ipynb\" target=\"_parent\"><img src=\"https://colab.research.google.com/assets/colab-badge.svg\" alt=\"Open In Colab\"/></a>"
      ]
    },
    {
      "cell_type": "code",
      "source": [
        "\n",
        "\n",
        "  #Float, tipagem explícita, para garantir número fracionado\n",
        "  n1 = float( input (\"Digite a nota 1 (com peso 2): \"))\n",
        "  n2 = float( input (\"Digite a nota 2 (com peso 3): \"))\n",
        "  n3 = float( input (\"Digite a nota 3 (com peso 4): \"))\n",
        "  #calculo da média ponderada\n",
        "  media = (n1 * 2 + n2 * 3) / 5\n",
        "\n",
        "  #impressão da média\n",
        "  print (f\"A média ponderada das notas é: {media:.2f}\")"
      ],
      "metadata": {
        "colab": {
          "base_uri": "https://localhost:8080/"
        },
        "id": "iT64pDudMXQi",
        "outputId": "b9d76dd6-1424-4388-a78f-3b417799de98"
      },
      "execution_count": 23,
      "outputs": [
        {
          "output_type": "stream",
          "name": "stdout",
          "text": [
            "Digite a nota 1 (com peso 2): 7\n",
            "Digite a nota 2 (com peso 3): 6\n",
            "Digite a nota 3 (com peso 4): 5\n",
            "A média ponderada das notas é: 6.40\n"
          ]
        }
      ]
    }
  ]
}