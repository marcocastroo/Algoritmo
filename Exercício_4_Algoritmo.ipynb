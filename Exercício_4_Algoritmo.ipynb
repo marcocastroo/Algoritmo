{
  "nbformat": 4,
  "nbformat_minor": 0,
  "metadata": {
    "colab": {
      "provenance": [],
      "authorship_tag": "ABX9TyNAK6ptMfCsNuxig2mVYYvM",
      "include_colab_link": true
    },
    "kernelspec": {
      "name": "python3",
      "display_name": "Python 3"
    },
    "language_info": {
      "name": "python"
    }
  },
  "cells": [
    {
      "cell_type": "markdown",
      "metadata": {
        "id": "view-in-github",
        "colab_type": "text"
      },
      "source": [
        "<a href=\"https://colab.research.google.com/github/marcocastroo/Algoritmo/blob/main/Exerc%C3%ADcio_4_Algoritmo.ipynb\" target=\"_parent\"><img src=\"https://colab.research.google.com/assets/colab-badge.svg\" alt=\"Open In Colab\"/></a>"
      ]
    },
    {
      "cell_type": "code",
      "source": [
        "num = int(input(\"Digite um número para ver sua tabuada\"))\n",
        "print(\"{} x {:2} = {}\".format(num, 1, num*1))\n",
        "print(\"{} x {:2} = {}\".format(num, 2, num*2))\n",
        "print(\"{} x {:2} = {}\".format(num, 3, num*3))\n",
        "print(\"{} x {:2} = {}\".format(num, 4, num*4))\n",
        "print(\"{} x {:2} = {}\".format(num, 5, num*5))\n",
        "print(\"{} x {:2} = {}\".format(num, 6, num*6))\n",
        "print(\"{} x {:2} = {}\".format(num, 7, num*7))\n",
        "print(\"{} x {:2} = {}\".format(num, 8, num*8))\n",
        "print(\"{} x {:2} = {}\".format(num, 9, num*9))\n",
        "print(\"{} x {:2} = {}\".format(num, 10, num*10))"
      ],
      "metadata": {
        "colab": {
          "base_uri": "https://localhost:8080/"
        },
        "id": "oumA7N13I9S4",
        "outputId": "6eb7ae41-db09-4788-952a-e77f72a7a777"
      },
      "execution_count": 18,
      "outputs": [
        {
          "output_type": "stream",
          "name": "stdout",
          "text": [
            "Digite um número para ver sua tabuada8\n",
            "8 x  1 = 8\n",
            "8 x  2 = 16\n",
            "8 x  3 = 24\n",
            "8 x  4 = 32\n",
            "8 x  5 = 40\n",
            "8 x  6 = 48\n",
            "8 x  7 = 56\n",
            "8 x  8 = 64\n",
            "8 x  9 = 72\n",
            "8 x 10 = 80\n"
          ]
        }
      ]
    }
  ]
}