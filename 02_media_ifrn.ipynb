{
  "nbformat": 4,
  "nbformat_minor": 0,
  "metadata": {
    "colab": {
      "provenance": [],
      "authorship_tag": "ABX9TyO9AtFP91vx/W12V6tmMVsK",
      "include_colab_link": true
    },
    "kernelspec": {
      "name": "python3",
      "display_name": "Python 3"
    },
    "language_info": {
      "name": "python"
    }
  },
  "cells": [
    {
      "cell_type": "markdown",
      "metadata": {
        "id": "view-in-github",
        "colab_type": "text"
      },
      "source": [
        "<a href=\"https://colab.research.google.com/github/marcocastroo/Algoritmo/blob/main/02_media_ifrn.ipynb\" target=\"_parent\"><img src=\"https://colab.research.google.com/assets/colab-badge.svg\" alt=\"Open In Colab\"/></a>"
      ]
    },
    {
      "cell_type": "markdown",
      "source": [
        "Calculadora de média ponderada IFRN"
      ],
      "metadata": {
        "id": "75bkUnumxVYw"
      }
    },
    {
      "cell_type": "code",
      "source": [
        "print (\"Calculadora de média ponderada IFRN\")\n",
        "#Float, tipagem explícita, para garantir número fracionado\n",
        "n1 = float( input (\"Digite a nota 1 (com peso 2): \"))\n",
        "n2 = float( input (\"Digite a nota 2 (com peso 3): \"))\n",
        "\n",
        "#calculo da média ponderada\n",
        "media = (n1 * 2 + n2 * 3) / 5\n",
        "\n",
        "#impressão da média\n",
        "print (f\"A média ponderada das notas é: {media:.2f}\")\n",
        "\n",
        "#apresentar se o aluno foi aprovado ou não\n",
        "if media >= 6:\n",
        "  print (\"Aprovado\")\n",
        "else:\n",
        "    if n1 >= 4 and n2 >=4:\n",
        "      print(\"Prova final\")\n",
        "    else:\n",
        "      print(\"Reprovado\")"
      ],
      "metadata": {
        "colab": {
          "base_uri": "https://localhost:8080/"
        },
        "id": "JLA5fG47xhaH",
        "outputId": "13b90065-182e-4ca2-b6ab-6c7f88fdbed0"
      },
      "execution_count": 7,
      "outputs": [
        {
          "output_type": "stream",
          "name": "stdout",
          "text": [
            "Calculadora de média ponderada IFRN\n",
            "Digite a nota 1 (com peso 2): 3.3\n",
            "Digite a nota 2 (com peso 3): 7.8\n",
            "A média ponderada das notas é: 6.00\n",
            "Aprovado\n"
          ]
        }
      ]
    }
  ]
}