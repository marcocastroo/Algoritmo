{
  "nbformat": 4,
  "nbformat_minor": 0,
  "metadata": {
    "colab": {
      "provenance": [],
      "authorship_tag": "ABX9TyPOc+IIq9uhZjdKg+hLQHeN",
      "include_colab_link": true
    },
    "kernelspec": {
      "name": "python3",
      "display_name": "Python 3"
    },
    "language_info": {
      "name": "python"
    }
  },
  "cells": [
    {
      "cell_type": "markdown",
      "metadata": {
        "id": "view-in-github",
        "colab_type": "text"
      },
      "source": [
        "<a href=\"https://colab.research.google.com/github/marcocastroo/Algoritmo/blob/main/02_media_ifrn.ipynb\" target=\"_parent\"><img src=\"https://colab.research.google.com/assets/colab-badge.svg\" alt=\"Open In Colab\"/></a>"
      ]
    },
    {
      "cell_type": "markdown",
      "source": [
        "Calculadora de média ponderada IFRN"
      ],
      "metadata": {
        "id": "75bkUnumxVYw"
      }
    },
    {
      "cell_type": "code",
      "source": [
        "print (\"Calculadora de média ponderada IFRN\")\n",
        "#Float, tipagem explícita, para garantir número fracionado\n",
        "n1 = float( input (\"Digite a nota 1 (com peso 2): \"))\n",
        "n2 = float( input (\"Digite a nota 2 (com peso 3): \"))\n",
        "\n",
        "#calculo da média ponderada\n",
        "media = (n1 * 2 + n2 * 3) / 5\n",
        "\n",
        "#impressão da média\n",
        "print (f\"A média ponderada das notas é: {media:.2f}\")"
      ],
      "metadata": {
        "colab": {
          "base_uri": "https://localhost:8080/"
        },
        "id": "JLA5fG47xhaH",
        "outputId": "0be81d4a-1c9a-46c1-a1c6-6fe918b934c4"
      },
      "execution_count": 3,
      "outputs": [
        {
          "output_type": "stream",
          "name": "stdout",
          "text": [
            "Calculadora de média ponderada IFRN\n",
            "Digite a nota 1 (com peso 2): 5.6\n",
            "Digite a nota 2 (com peso 3): 4.8\n",
            "A média ponderada das notas é: 5.12\n"
          ]
        }
      ]
    }
  ]
}